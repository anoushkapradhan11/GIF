{
 "cells": [
  {
   "cell_type": "code",
   "execution_count": 3,
   "id": "573ebb61",
   "metadata": {},
   "outputs": [],
   "source": [
    "import imageio.v3 as iio"
   ]
  },
  {
   "cell_type": "code",
   "execution_count": 4,
   "id": "a9739c31",
   "metadata": {},
   "outputs": [],
   "source": [
    "filenames=['IMG-20240612-WA0335.jpg','IMG-20240612-WA0337.jpg']\n",
    "images=[]\n",
    "for file in filenames:\n",
    "    images.append(iio.imread(file))\n",
    "iio.imwrite('team.gif',images,duration=500,loop=0)"
   ]
  },
  {
   "cell_type": "code",
   "execution_count": null,
   "id": "c3ea8f05",
   "metadata": {},
   "outputs": [],
   "source": []
  }
 ],
 "metadata": {
  "kernelspec": {
   "display_name": "Python 3",
   "language": "python",
   "name": "python3"
  },
  "language_info": {
   "codemirror_mode": {
    "name": "ipython",
    "version": 3
   },
   "file_extension": ".py",
   "mimetype": "text/x-python",
   "name": "python",
   "nbconvert_exporter": "python",
   "pygments_lexer": "ipython3",
   "version": "3.12.1"
  }
 },
 "nbformat": 4,
 "nbformat_minor": 5
}
